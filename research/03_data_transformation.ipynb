{
 "cells": [
  {
   "cell_type": "code",
   "execution_count": 4,
   "metadata": {},
   "outputs": [],
   "source": [
    "import os"
   ]
  },
  {
   "cell_type": "code",
   "execution_count": 5,
   "metadata": {},
   "outputs": [],
   "source": [
    "os.chdir('../')"
   ]
  },
  {
   "cell_type": "code",
   "execution_count": 22,
   "metadata": {},
   "outputs": [
    {
     "data": {
      "text/plain": [
       "'c:\\\\Users\\\\Naitik\\\\OneDrive\\\\Desktop\\\\Masters\\\\MLops\\\\car-pred-MLoperations'"
      ]
     },
     "execution_count": 22,
     "metadata": {},
     "output_type": "execute_result"
    }
   ],
   "source": [
    "%pwd"
   ]
  },
  {
   "cell_type": "code",
   "execution_count": 7,
   "metadata": {},
   "outputs": [],
   "source": [
    "os.chdir('car-pred-MLoperations')"
   ]
  },
  {
   "cell_type": "code",
   "execution_count": 8,
   "metadata": {},
   "outputs": [
    {
     "data": {
      "text/plain": [
       "'c:\\\\Users\\\\Naitik\\\\OneDrive\\\\Desktop\\\\Masters\\\\MLops\\\\car-pred-MLoperations'"
      ]
     },
     "execution_count": 8,
     "metadata": {},
     "output_type": "execute_result"
    }
   ],
   "source": [
    "%pwd"
   ]
  },
  {
   "cell_type": "code",
   "execution_count": 9,
   "metadata": {},
   "outputs": [],
   "source": [
    "from dataclasses import dataclass\n",
    "from pathlib import Path\n",
    "\n",
    "\n",
    "@dataclass(frozen=True)\n",
    "class DataTransformationConfig:\n",
    "    root_dir: Path\n",
    "    data_path: Path"
   ]
  },
  {
   "cell_type": "code",
   "execution_count": 10,
   "metadata": {},
   "outputs": [],
   "source": [
    "from carPred.constants import *\n",
    "from carPred.utils.common import read_yaml, create_directories"
   ]
  },
  {
   "cell_type": "code",
   "execution_count": 11,
   "metadata": {},
   "outputs": [],
   "source": [
    "class ConfigurationManager:\n",
    "    def __init__(\n",
    "        self,\n",
    "        config_filepath = CONFIG_FILE_PATH,\n",
    "        params_filepath = PARAMS_FILE_PATH,\n",
    "        schema_filepath = SCHEMA_FILE_PATH):\n",
    "\n",
    "        self.config = read_yaml(config_filepath)\n",
    "        self.params = read_yaml(params_filepath)\n",
    "        self.schema = read_yaml(schema_filepath)\n",
    "\n",
    "        create_directories([self.config.artifacts_root])\n",
    "    \n",
    "    def get_data_transformation_config(self) -> DataTransformationConfig:\n",
    "        config = self.config.data_transformation\n",
    "\n",
    "        create_directories([config.root_dir])\n",
    "\n",
    "        data_transformation_config = DataTransformationConfig(\n",
    "            root_dir=config.root_dir,\n",
    "            data_path=config.data_path,\n",
    "        )\n",
    "\n",
    "        return data_transformation_config"
   ]
  },
  {
   "cell_type": "code",
   "execution_count": 13,
   "metadata": {},
   "outputs": [],
   "source": [
    "import os\n",
    "from carPred import logger\n",
    "from sklearn.model_selection import train_test_split\n",
    "import pandas as pd\n",
    "from sklearn.preprocessing import LabelEncoder"
   ]
  },
  {
   "cell_type": "code",
   "execution_count": 24,
   "metadata": {},
   "outputs": [],
   "source": [
    "class DataTransformation:\n",
    "    def __init__(self, config: DataTransformationConfig):\n",
    "        self.config = config\n",
    "\n",
    "    \n",
    "    ## Note: You can add different data transformation techniques such as Scaler, PCA and all\n",
    "    #You can perform all kinds of EDA in ML cycle here before passing this data to the model\n",
    "\n",
    "    # I am only adding train_test_spliting cz this data is already cleaned up\n",
    "\n",
    "\n",
    "    def eda(self):\n",
    "        data = pd.read_csv(self.config.data_path)\n",
    "        data = data.drop(['ind'], axis = 1)\n",
    "\n",
    "        cat = []\n",
    "        num = []\n",
    "        for i in data.columns:\n",
    "            if data[i].dtypes == 'O':\n",
    "                cat.append(i)\n",
    "            else:\n",
    "                num.append(i)\n",
    "        data_n=data[num]   # new dataframe just type numeric\n",
    "        data_c=data[cat]\n",
    "\n",
    "        label_encoders = {}\n",
    "        categorical_columns = data_c.columns  # I would recommend using columns names here if you're using pandas. If you're using numpy then stick with range(n) instead\n",
    "\n",
    "        for column in categorical_columns:\n",
    "            label_encoders[column] = LabelEncoder()\n",
    "            data_c[column] = label_encoders[column].fit_transform(data_c[column])\n",
    "\n",
    "        frames = [data_c, data_n]\n",
    "  \n",
    "        data = pd.concat(frames,axis=1)\n",
    "        print(data.head())\n",
    "        return data\n",
    "\n",
    "\n",
    "\n",
    "    def train_test_spliting(self):\n",
    "        data = DataTransformation.eda(self)\n",
    "\n",
    "        # Split the data into training and test sets. (0.75, 0.25) split.\n",
    "        \n",
    "        \n",
    "\n",
    "        \n",
    "        train, test = train_test_split(data)\n",
    "\n",
    "        train.to_csv(os.path.join(self.config.root_dir, \"train.csv\"),index = False)\n",
    "        test.to_csv(os.path.join(self.config.root_dir, \"test.csv\"),index = False)\n",
    "\n",
    "        logger.info(\"Splited data into training and test sets\")\n",
    "        logger.info(train.shape)\n",
    "        logger.info(test.shape)\n",
    "\n",
    "        print(train.shape)\n",
    "        print(test.shape)"
   ]
  },
  {
   "cell_type": "code",
   "execution_count": 25,
   "metadata": {},
   "outputs": [
    {
     "name": "stdout",
     "output_type": "stream",
     "text": [
      "[2024-02-22 19:45:55,788: INFO: common: yaml file: config\\config.yaml loaded successfully]\n",
      "[2024-02-22 19:45:55,791: INFO: common: yaml file: params.yaml loaded successfully]\n",
      "[2024-02-22 19:45:55,794: INFO: common: yaml file: schema.yaml loaded successfully]\n",
      "[2024-02-22 19:45:55,796: INFO: common: created directory at: artifacts]\n",
      "[2024-02-22 19:45:55,797: INFO: common: created directory at: artifacts/data_transformation]\n",
      "   Make  Model  Condition  Year  Mileage     Price\n",
      "0     1      4          0  2022    18107  19094.75\n",
      "1     4      4          0  2014    13578  27321.10\n",
      "2     0      2          2  2016    46054  23697.30\n",
      "3     1      2          0  2022    34981  18251.05\n",
      "4     0      2          0  2019    63565  19821.85\n",
      "[2024-02-22 19:45:55,817: INFO: 3534830584: Splited data into training and test sets]\n",
      "[2024-02-22 19:45:55,819: INFO: 3534830584: (750, 6)]\n",
      "[2024-02-22 19:45:55,820: INFO: 3534830584: (250, 6)]\n",
      "(750, 6)\n",
      "(250, 6)\n"
     ]
    },
    {
     "name": "stderr",
     "output_type": "stream",
     "text": [
      "C:\\Users\\Naitik\\AppData\\Local\\Temp\\ipykernel_10108\\3534830584.py:31: SettingWithCopyWarning: \n",
      "A value is trying to be set on a copy of a slice from a DataFrame.\n",
      "Try using .loc[row_indexer,col_indexer] = value instead\n",
      "\n",
      "See the caveats in the documentation: https://pandas.pydata.org/pandas-docs/stable/user_guide/indexing.html#returning-a-view-versus-a-copy\n",
      "  data_c[column] = label_encoders[column].fit_transform(data_c[column])\n",
      "C:\\Users\\Naitik\\AppData\\Local\\Temp\\ipykernel_10108\\3534830584.py:31: SettingWithCopyWarning: \n",
      "A value is trying to be set on a copy of a slice from a DataFrame.\n",
      "Try using .loc[row_indexer,col_indexer] = value instead\n",
      "\n",
      "See the caveats in the documentation: https://pandas.pydata.org/pandas-docs/stable/user_guide/indexing.html#returning-a-view-versus-a-copy\n",
      "  data_c[column] = label_encoders[column].fit_transform(data_c[column])\n",
      "C:\\Users\\Naitik\\AppData\\Local\\Temp\\ipykernel_10108\\3534830584.py:31: SettingWithCopyWarning: \n",
      "A value is trying to be set on a copy of a slice from a DataFrame.\n",
      "Try using .loc[row_indexer,col_indexer] = value instead\n",
      "\n",
      "See the caveats in the documentation: https://pandas.pydata.org/pandas-docs/stable/user_guide/indexing.html#returning-a-view-versus-a-copy\n",
      "  data_c[column] = label_encoders[column].fit_transform(data_c[column])\n"
     ]
    }
   ],
   "source": [
    "try:\n",
    "    config = ConfigurationManager()\n",
    "    data_transformation_config = config.get_data_transformation_config()\n",
    "    data_transformation = DataTransformation(config=data_transformation_config)\n",
    "    data_transformation.train_test_spliting()\n",
    "except Exception as e:\n",
    "    raise e"
   ]
  },
  {
   "cell_type": "code",
   "execution_count": null,
   "metadata": {},
   "outputs": [],
   "source": []
  }
 ],
 "metadata": {
  "kernelspec": {
   "display_name": "car_pred",
   "language": "python",
   "name": "python3"
  },
  "language_info": {
   "codemirror_mode": {
    "name": "ipython",
    "version": 3
   },
   "file_extension": ".py",
   "mimetype": "text/x-python",
   "name": "python",
   "nbconvert_exporter": "python",
   "pygments_lexer": "ipython3",
   "version": "3.8.18"
  }
 },
 "nbformat": 4,
 "nbformat_minor": 2
}
